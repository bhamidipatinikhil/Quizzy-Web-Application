{
 "cells": [
  {
   "cell_type": "code",
   "execution_count": 4,
   "metadata": {},
   "outputs": [
    {
     "name": "stdout",
     "output_type": "stream",
     "text": [
      "The Wikimedia Foundation, Inc., or Wikimedia for short and abbreviated as WMF, is an American 501(c)(3) nonprofit organization headquartered in San Francisco, California and registered as a charitable foundation under local laws. Best known as the hosting platform for Wikipedia, a crowdsourced online encyclopedia, it also hosts other related projects and MediaWiki, a wiki software.The Wikimedia Foundation was established in 2003 in St. Petersburg, Florida, by Jimmy Wales as a nonprofit way to fund Wikipedia, Wiktionary, and other crowdsourced wiki projects that had until then been hosted by Bomis, Wales's for-profit company. The Foundation finances itself mainly through millions of small donations from Wikipedia readers, collected through email campaigns and annual fundraising banners placed on Wikipedia and its sister projects. These are complemented by grants from philanthropic organizations and tech companies, and starting in 2022, by services income from Wikimedia Enterprise.\n",
      "The Foundation has grown rapidly throughout its existence. By 2022, it employed around 700 staff and contractors, with annual revenues of US$155 million, annual expenses of US$146 million, net assets of US$240 million and a growing endowment, which surpassed US$100 million in June 2021.\n"
     ]
    },
    {
     "data": {
      "text/plain": [
       "['Bumpy Kanahele', 'Holiday Airlines (US airline)', 'Abanda, Alabama']"
      ]
     },
     "execution_count": 4,
     "metadata": {},
     "output_type": "execute_result"
    }
   ],
   "source": [
    "import wikipedia\n",
    "\n",
    "print(wikipedia.summary(\"Wikipedia\"))\n",
    "wikipedia.random(3)"
   ]
  },
  {
   "cell_type": "code",
   "execution_count": 5,
   "metadata": {},
   "outputs": [
    {
     "name": "stdout",
     "output_type": "stream",
     "text": [
      "Local elections were held at Quezon City on May 9, 2022, as part of the Philippine general election. Held concurrently with the national elections, the electorate voted to elect a mayor, a vice mayor, thirty-six city council members and six district representatives to congress. Those elected took their respective offices on June 30, 2022, for a three-year-long term. 1,138,511 of 1,403,895 registered voters voted in this election. \n",
      "Joy Belmonte and Gian Sotto were re-elected to the mayoralty and vice mayoralty respectively. The Serbisyo sa Bayan Party with its coalition with PDP-Laban and the Nacionalista Party won a combined 28 seats in the city council, effectively securing the coalition an outright majority in the legislative body. Meanwhile, the UniTeam backed opposition coalition, Malayang Quezon City won 6 seats in the city council. \n",
      "Arjo Atayde, Raffy Tulfo Jr., Franz Pumaren, Marvin Rillo, PM Vargas and Marivic Co-Pilar were elected to represent the city's first, second, third, fourth, fifth and sixth legislative districts respectively in the 19th Congress.\n",
      "An HVDC converter converts electric power from high voltage alternating current (AC) to high-voltage direct current (HVDC), or vice versa. HVDC is used as an alternative to AC for transmitting electrical energy over long distances or between AC power systems of different frequencies. HVDC converters capable of converting up to two gigawatts (GW) and with voltage ratings of up to 900 kilovolts (kV) have been built, and even higher ratings are technically feasible. A complete converter station may contain several such converters in series and/or parallel to achieve total system DC voltage ratings of up to 1,100 kV.\n",
      "\n",
      "Almost all HVDC converters are inherently bi-directional; they can convert either from AC to DC (rectification) or from DC to AC (inversion). A complete HVDC system always includes at least one converter operating as a rectifier (converting AC to DC) and at least one operating as an inverter (converting DC to AC). Some HVDC systems take full advantage of this bi-directional property (for example, those designed for cross-border power trading, such as the Cross-Channel link between England and France).  Others, for example those designed to export power from a remote power station such as the Itaipu scheme in Brazil, may be optimised for power flow in only one preferred direction.  In such schemes, power flow in the non-preferred direction may have a reduced capacity or poorer efficiency.\n"
     ]
    },
    {
     "data": {
      "text/plain": [
       "[None, None]"
      ]
     },
     "execution_count": 5,
     "metadata": {},
     "output_type": "execute_result"
    }
   ],
   "source": [
    "[print(wikipedia.summary(title)) for title in wikipedia.random(2)]"
   ]
  },
  {
   "cell_type": "code",
   "execution_count": 11,
   "metadata": {},
   "outputs": [
    {
     "name": "stdout",
     "output_type": "stream",
     "text": [
      "Lego Produktions AG Schweiz was a major production facility in Baar, Switzerland for the Lego toy company, from 1974 to 2004. At the time its closing was announced in 2001, 30% of the world production of Lego was produced at the Baar facility. The Baar facility eventually closed in 2004 and Lego's remaining Swiss production facilities closed in 2005.\n",
      "Vaishali Jesrani (born 27 July 1981) is a women's cricketer who plays for the Oman national cricket team. In January 2020, she was named in the Oman women's national squad for the 2020 Qatar Women's T20I Triangular Series tournament which was also the international WT20I debut for Oman national team. She made her WT20I debut against Qatar on 17 January 2020. She is the captain of the Oman women's cricket team.\n",
      "Jay Woodson Dickey Jr. (December 14, 1939 – April 20, 2017), was a Republican U.S. Representative for Arkansas's 4th congressional district from 1993 to 2001. The amendment known as the Dickey Amendment (1996) blocks the Centers for Disease Control and Prevention from funding injury prevention research that might promote gun control, and the Dickey–Wicker Amendment (1995) prohibits federal funds to be spent on research that involves the destruction of a human embryo.\n",
      "Multiplayer online battle arena (MOBA) is a subgenre of strategy video games in which two teams of players compete against each other on a predefined battlefield. Each player controls a single character with a set of distinctive abilities that improve over the course of a game and which contribute to the team's overall strategy. The typical ultimate objective is for each team to destroy their opponents' main structure, located at the opposite corner of the battlefield. In some MOBA games, the objective can be defeating every player on the enemy team. Players are assisted by computer-controlled units that periodically spawn in groups and march forward along set paths toward their enemy's base, which is heavily guarded by defensive structures. This type of multiplayer online video games originated as a subgenre of real-time strategy, though MOBA players usually do not construct buildings or units. Moreover, there are examples of MOBA games that are not considered real-time strategy games, such as Smite (2014), and Paragon. The genre is seen as a fusion of real-time strategy, role-playing and action games.\n",
      "The first widely accepted game in the genre was Aeon of Strife (AoS), a fan-made custom map for StarCraft in which four players each control a single powerful unit and, aided by weak computer-controlled units, compete against a stronger computer. Defense of the Ancients (DotA) was created in 2003 by the Warcraft III modding community for Warcraft III: Reign of Chaos and its expansion, The Frozen Throne, with a map based on AoS. DotA was one of the first major titles of its genre and the first MOBA for which sponsored tournaments were held. It was followed by two spiritual successors, League of Legends (2009) and Heroes of Newerth (2010), as well by a standalone sequel, Dota 2 (2013), and numerous other games in the genre, such as Heroes of the Storm (2015).By the early 2010s, the genre had become a big part of the esports category. In 2018, prize pools reached over US$60 million, 40% of the year's total esports prize pools. Major esports professional tournaments are held in venues that can hold tens of thousands of spectators and are streamed online. A strong fanbase has opened up the opportunity for sponsorship and advertising, eventually leading the genre to become a global cultural phenomenon. For example, 2018 League of Legends World Championship had the biggest prize pool out of all League of Legends esports championship finals, awarding almost $6.5 million.\n",
      "\n",
      "\n",
      "Caernarfon Rugby Football Club (Welsh: Clwb Rygbi Caernarfon) is a rugby union team from the town of Caernarfon, Gwynedd, North Wales. They currently play in the Welsh Rugby Union Division One North League.\n",
      "The club was formed in 1973, and the grounds are located at Y Morfa, Lon Parc, Caernarfon.\n",
      "The club colours are maroon and yellow.\n",
      "The club has a First, a Second XV and a Youth team (Under 19). There is an extensive junior section consisting of Under 16, Under 14, Under 13, Under 12, Under 11, Under 10, Under 9 and Under 8 teams.\n",
      "Tashmuryn (Russian: Ташмурын; Bashkir: Ташморон, Taşmoron) is a rural locality (a village) in Akhunovsky Selsoviet, Uchalinsky District, Bashkortostan, Russia. The population was 1 as of 2010.\n",
      "The Office of Management and Budget of Puerto Rico —Spanish: Oficina de Gerencia y Presupuesto de Puerto Rico (OGP)— is a Cabinet-level office, and the largest office within the Office of the Governor of Puerto Rico. The main job of the office is to help the governor prepare the budget. The office also measures the effectiveness of agency programs, policies, and procedures and see if they comply with the governor's policies. Its current director is Jose I. Marrero Rosado.\n",
      "OGP was created by virtue of Act 147 of 1980.\n",
      "The 1965 Prague Skate was a senior international figure skating competition held in Czechoslovakia in November 1965. Medals were awarded in the disciplines of men's singles, ladies' singles, pair skating, and ice dancing. Italy's Giordano Abbondati won the men's title ahead of the future Olympic champion, Ondrej Nepela of Czechoslovakia. Future Olympic medalist Hana Mašková took gold in the ladies' event by defeating Hungary's Zsuzsa Almássy and West Germany's Uschi Keszler. In ice dancing, Czechoslovakia's Jitka Babická / Jaromír Holan won the first of their two Prague Skate titles, defeating teams from West Germany and the United Kingdom.\n",
      "The Vet & The Rookie is a collaborative studio album by American rappers 8Ball and Devius. The album was released on October 9, 2007, by 8 Ways Entertainment, Koch Records and RBC Records.\n",
      "The Embassy of the United States of America in Kabul was the official diplomatic mission of the United States of America to the Islamic Republic of Afghanistan. The embassy was housed in a chancery located on Great Massoud Road in the Wazir Akbar Khan neighborhood of the Afghan capital, Kabul, and was built at a cost of nearly $800 million. On August 15, 2021, in the face of a Taliban advance on Kabul, embassy staff relocated to makeshift but secure facilities at Hamid Karzai International Airport. Kabul fell and the chancery building officially closed late August 15.\n",
      "The embassy did not have an official Senate-confirmed ambassador at the time of the Taliban takeover; the final head of the mission in Afghanistan was Chargé d'Affaires Ross Wilson. On August 31, 2021, the embassy suspended operations in Afghanistan and transferred operations to Doha, Qatar, with former deputy chief of mission Ian McCary serving as Chargé d'Affaires. The U.S. Interests Section at the Embassy of Qatar in Kabul was established as the protecting power of the U.S. in Afghanistan on December 31.\n"
     ]
    }
   ],
   "source": [
    "def generateText(n = 5):\n",
    "    for title in wikipedia.random(n):\n",
    "        summary = wikipedia.summary(title)\n",
    "        yield summary\n",
    "\n",
    "\n",
    "for text in generateText(10):\n",
    "    print(text)"
   ]
  },
  {
   "cell_type": "code",
   "execution_count": null,
   "metadata": {},
   "outputs": [],
   "source": []
  },
  {
   "cell_type": "code",
   "execution_count": null,
   "metadata": {},
   "outputs": [],
   "source": []
  },
  {
   "cell_type": "code",
   "execution_count": null,
   "metadata": {},
   "outputs": [],
   "source": []
  }
 ],
 "metadata": {
  "kernelspec": {
   "display_name": "Python 3",
   "language": "python",
   "name": "python3"
  },
  "language_info": {
   "codemirror_mode": {
    "name": "ipython",
    "version": 3
   },
   "file_extension": ".py",
   "mimetype": "text/x-python",
   "name": "python",
   "nbconvert_exporter": "python",
   "pygments_lexer": "ipython3",
   "version": "3.11.0"
  },
  "orig_nbformat": 4
 },
 "nbformat": 4,
 "nbformat_minor": 2
}
